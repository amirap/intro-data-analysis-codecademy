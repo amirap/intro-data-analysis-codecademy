{
 "cells": [
  {
   "cell_type": "code",
   "execution_count": 2,
   "metadata": {},
   "outputs": [
    {
     "data": {
      "text/plain": [
       "<matplotlib.figure.Figure at 0x433fbd0>"
      ]
     },
     "metadata": {},
     "output_type": "display_data"
    }
   ],
   "source": [
    "from matplotlib import pyplot as plt\n",
    "\n",
    "months = [\"Jan\", \"Feb\", \"Mar\", \"Apr\", \"May\", \"Jun\", \"Jul\", \"Aug\", \"Sep\", \"Oct\", \"Nov\", \"Dec\"]\n",
    "\n",
    "x_values = range(len(months))\n",
    "\n",
    "visits_per_month = [9695, 7909, 10831, 12942, 12495, 16794, 14161, 12762, 12777, 12439, 10309, 8724]\n",
    "\n",
    "# numbers of limes of different species sold each month\n",
    "key_limes_per_month = [92.0, 109.0, 124.0, 70.0, 101.0, 79.0, 106.0, 101.0, 103.0, 90.0, 102.0, 106.0]\n",
    "persian_limes_per_month = [67.0, 51.0, 57.0, 54.0, 83.0, 90.0, 52.0, 63.0, 51.0, 44.0, 64.0, 78.0]\n",
    "blood_limes_per_month = [75.0, 75.0, 76.0, 71.0, 74.0, 77.0, 69.0, 80.0, 63.0, 69.0, 73.0, 82.0]\n",
    "\n",
    "\n",
    "# create your figure here\n",
    "plt.figure(figsize=(12,8))\n",
    "ax1 = plt.subplot(1,2,1)\n",
    "plt.plot(x_values, visits_per_month, marker='o')\n",
    "plt.xlabel(months)\n",
    "plt.ylabel('page visits')\n",
    "plt.title('Page visits per month')\n",
    "plt.xticks(x_values)\n",
    "\n",
    "ax2 = plt.subplot(1,2,2)\n",
    "p1 = plt.plot(x_values, key_limes_per_month, color='green')\n",
    "p2 = plt.plot(x_values, persian_limes_per_month, color='orange')\n",
    "p3 = plt.plot(x_values, blood_limes_per_month, color='red')\n",
    "\n",
    "plt.xlabel(months)\n",
    "ax2.set_xticks(x_values)\n",
    "ax2.set_xticklabels(months)\n",
    "plt.ylabel('number of limes')\n",
    "plt.title('Limes Per Month')\n",
    "legend_labels = ['Key lime', \"Persian lime\", \"Blood lime\"]\n",
    "plt.legend(legend_labels,loc=9)\n",
    "plt.show()\n",
    "plt.savefig('page_visits_limes.png')"
   ]
  },
  {
   "cell_type": "code",
   "execution_count": null,
   "metadata": {},
   "outputs": [],
   "source": []
  }
 ],
 "metadata": {
  "kernelspec": {
   "display_name": "Python 3",
   "language": "python",
   "name": "python3"
  },
  "language_info": {
   "codemirror_mode": {
    "name": "ipython",
    "version": 3
   },
   "file_extension": ".py",
   "mimetype": "text/x-python",
   "name": "python",
   "nbconvert_exporter": "python",
   "pygments_lexer": "ipython3",
   "version": "3.6.4"
  }
 },
 "nbformat": 4,
 "nbformat_minor": 2
}
